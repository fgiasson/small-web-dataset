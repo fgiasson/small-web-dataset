{
 "cells": [
  {
   "cell_type": "markdown",
   "metadata": {},
   "source": [
    "# Language Detection\n",
    "    \n",
    "> Detecting the language of a feed and its articles (some feeds have articles in multiple languages). "
   ]
  },
  {
   "cell_type": "code",
   "execution_count": null,
   "metadata": {},
   "outputs": [],
   "source": [
    "#| default_exp language_detection "
   ]
  },
  {
   "cell_type": "markdown",
   "metadata": {},
   "source": [
    "## Imports"
   ]
  },
  {
   "cell_type": "code",
   "execution_count": null,
   "metadata": {},
   "outputs": [],
   "source": [
    "#| export\n",
    "\n",
    "import os\n",
    "import torch\n",
    "from transformers import AutoTokenizer, AutoModelForSequenceClassification"
   ]
  },
  {
   "cell_type": "markdown",
   "metadata": {},
   "source": [
    "## Get Model and Tokenizer Files for the Language Detection Model\n",
    "\n",
    "We have to download each `model_name` to the specified `model_path`. For the given `model_name`, the function will download all the appropriate model and tokenizer files to that path. If the specified path is not existing, then it will be created by the function."
   ]
  },
  {
   "cell_type": "code",
   "execution_count": null,
   "metadata": {},
   "outputs": [],
   "source": [
    "#| export\n",
    "\n",
    "def download_lang_model(model_path: str, model_name: str):\n",
    "    \"\"\"Download a Hugging Face language detection model and tokenizer \n",
    "    to the specified directory\"\"\"\n",
    "\n",
    "    # Check if the directory already exists\n",
    "    if not os.path.exists(model_path):\n",
    "        os.makedirs(model_path)\n",
    "\n",
    "    tokenizer = AutoTokenizer.from_pretrained(model_name)\n",
    "    model = AutoModelForSequenceClassification.from_pretrained(model_name)\n",
    "\n",
    "    # Save the model and tokenizer to the specified directory\n",
    "    model.save_pretrained(model_path)\n",
    "    tokenizer.save_pretrained(model_path)"
   ]
  },
  {
   "cell_type": "markdown",
   "metadata": {},
   "source": [
    "## Detect Language"
   ]
  },
  {
   "cell_type": "markdown",
   "metadata": {},
   "source": [
    "### Supported Languages\n",
    "\n",
    "The languages currently supported are the ones supported by the `langdetect` module. Supported language codes are:"
   ]
  },
  {
   "cell_type": "code",
   "execution_count": null,
   "metadata": {},
   "outputs": [],
   "source": [
    "#| export\n",
    "\n",
    "language_codes = [\n",
    "    'ja',\n",
    "    'nl',\n",
    "    'ar',\n",
    "    'pl',\n",
    "    'de',\n",
    "    'it',\n",
    "    'pt',\n",
    "    'tr',\n",
    "    'es',\n",
    "    'hi',\n",
    "    'el',\n",
    "    'ur',\n",
    "    'bg',\n",
    "    'en',\n",
    "    'fr',\n",
    "    'zh',\n",
    "    'ru',\n",
    "    'th',\n",
    "    'sw',\n",
    "    'vi'\n",
    "]"
   ]
  },
  {
   "cell_type": "markdown",
   "metadata": {},
   "source": [
    "### Load Model & Tokenizer\n",
    "\n",
    "We load the model and tokenizer that we previously downloaded. Then we will pass a reference to the model and tokenizer to the `detect_language` function such that we don't have to load it every time we call it."
   ]
  },
  {
   "cell_type": "code",
   "execution_count": null,
   "metadata": {},
   "outputs": [],
   "source": [
    "#| export\n",
    "\n",
    "def load_model(model_path: str):\n",
    "    \"\"\"Load a Hugging Face model and tokenizer from the specified directory\"\"\"\n",
    "    tokenizer = AutoTokenizer.from_pretrained(model_path)\n",
    "    model = AutoModelForSequenceClassification.from_pretrained(model_path)\n",
    "    return model, tokenizer"
   ]
  },
  {
   "cell_type": "markdown",
   "metadata": {},
   "source": [
    "### Detect Language"
   ]
  },
  {
   "cell_type": "code",
   "execution_count": null,
   "metadata": {},
   "outputs": [],
   "source": [
    "#| export\n",
    "\n",
    "def detect_language(text: str, model, tokenizer):\n",
    "    \"\"\"Detect the language of a given text\"\"\"\n",
    "\n",
    "    # Truncate the text to 512 characters\n",
    "    text = text[:512]\n",
    "\n",
    "    # Tokenize the text\n",
    "    inputs = tokenizer(text, return_tensors=\"pt\")\n",
    "\n",
    "    # Get the prediction\n",
    "    outputs = model(**inputs)\n",
    "    predictions = outputs.logits.argmax(-1)\n",
    "    \n",
    "    return(language_codes[int(predictions)])"
   ]
  }
 ],
 "metadata": {
  "kernelspec": {
   "display_name": "python3",
   "language": "python",
   "name": "python3"
  }
 },
 "nbformat": 4,
 "nbformat_minor": 2
}
