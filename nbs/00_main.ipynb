{
 "cells": [
  {
   "cell_type": "markdown",
   "metadata": {},
   "source": [
    "# main\n",
    "\n",
    "> Entry point of the Small Web Feeds Processor command line tool"
   ]
  },
  {
   "cell_type": "code",
   "execution_count": null,
   "metadata": {},
   "outputs": [],
   "source": [
    "#| default_exp main"
   ]
  },
  {
   "cell_type": "markdown",
   "metadata": {},
   "source": [
    "## Imports\n",
    "\n",
    "The command line interface is using [typer](https://typer.tiangolo.com/), a library to build command line interfaces.\n",
    "\n",
    "Otherwise, we import all the internal modules of the project used to implement the different commands of the CLI."
   ]
  },
  {
   "cell_type": "code",
   "execution_count": null,
   "metadata": {},
   "outputs": [],
   "source": [
    "#| exports\n",
    "\n",
    "import os\n",
    "import typer\n",
    "from dotenv import load_dotenv\n",
    "from typing import Optional\n",
    "from typing_extensions import Annotated\n",
    "from small_web_dataset import __version__\n",
    "from small_web_dataset.feeds import sync_feeds as sf, connect_feeds_db, create_feeds_db, create_articles_db, sync_feeds_db_from_cache, get_articles_lang_per_feeds, update_feeds_with_languages, validate_new_index_file\n",
    "from rich import print"
   ]
  },
  {
   "cell_type": "markdown",
   "metadata": {},
   "source": [
    "## Command line interface"
   ]
  },
  {
   "cell_type": "code",
   "execution_count": null,
   "metadata": {},
   "outputs": [],
   "source": [
    "#| export\n",
    "\n",
    "app = typer.Typer()"
   ]
  },
  {
   "cell_type": "markdown",
   "metadata": {},
   "source": [
    "### version\n",
    "\n",
    "The `version` command displays the current installed version of ReadNext."
   ]
  },
  {
   "cell_type": "code",
   "execution_count": null,
   "metadata": {},
   "outputs": [],
   "source": [
    "#| export\n",
    "\n",
    "@app.command()\n",
    "def version():\n",
    "    \"\"\"Get the current installed version of ReadNext\"\"\"\n",
    "    print(f\"Version: {__version__}\")"
   ]
  },
  {
   "cell_type": "markdown",
   "metadata": {},
   "source": [
    "You can get the version number of the ReadNext instance installed of your machine by running:\n",
    "\n",
    "```bash\n",
    "swd version\n",
    "```"
   ]
  },
  {
   "cell_type": "markdown",
   "metadata": {},
   "source": [
    "### Configuration\n",
    "\n",
    "Display the current configuration of ReadNext."
   ]
  },
  {
   "cell_type": "code",
   "execution_count": null,
   "metadata": {},
   "outputs": [],
   "source": [
    "#| export\n",
    "\n",
    "@app.command()\n",
    "def config():\n",
    "    \"\"\"Get the current configuration of the Small Web Feeds Processor tool\"\"\"\n",
    "    print(f\"FEEDS_PATH: {os.environ.get('FEEDS_PATH')}\")\n",
    "    print(f\"DB_PATH: {os.environ.get('DB_PATH')}\")"
   ]
  },
  {
   "cell_type": "markdown",
   "metadata": {},
   "source": [
    "You can display the current configuration uptions picked-up by ReadNext by running:\n",
    "\n",
    "```bash\n",
    "swd config\n",
    "```"
   ]
  },
  {
   "cell_type": "markdown",
   "metadata": {},
   "source": [
    "## Sync Feeds"
   ]
  },
  {
   "cell_type": "code",
   "execution_count": null,
   "metadata": {},
   "outputs": [],
   "source": [
    "#| export\n",
    "\n",
    "@app.command()\n",
    "def sync_feeds(ddmmyyyy: Annotated[Optional[str], typer.Argument()] = None):\n",
    "    \"\"\"Sync all the feeds from the Small Web index. If `ddmmyyyy` is provided, sync \n",
    "    the feeds from that day. Default is today.\"\"\"\n",
    "    if ddmmyyyy is None:\n",
    "        print(\"Downloading today's feeds...\")\n",
    "        sf()\n",
    "    print(\"Synchronizing the feeds db with the local cache...\")\n",
    "    if ddmmyyyy is None:\n",
    "        sync_feeds_db_from_cache()\n",
    "    else:\n",
    "        sync_feeds_db_from_cache(ddmmyyyy)\n",
    "    print(\"Updating the feeds' language...\")\n",
    "    update_feeds_with_languages(get_articles_lang_per_feeds())"
   ]
  },
  {
   "cell_type": "markdown",
   "metadata": {},
   "source": [
    "## Validate Small Web Index"
   ]
  },
  {
   "cell_type": "code",
   "execution_count": null,
   "metadata": {},
   "outputs": [],
   "source": [
    "#| export\n",
    "\n",
    "@app.command()\n",
    "def validate_kagi_small_web_index(index_file: str):\n",
    "    \"\"\"Validate a new Small Web Index against the Kagi Small Web Index\"\"\"\n",
    "    feeds = validate_new_index_file(index_file)\n",
    "\n",
    "    if(len(feeds) == 0):\n",
    "        print(\"All new feeds are valid.\")\n",
    "    else:\n",
    "        print(\"The following feeds are invalid:\")\n",
    "        for feed in feeds:\n",
    "            print(feed)"
   ]
  },
  {
   "cell_type": "markdown",
   "metadata": {},
   "source": [
    "## Initialization"
   ]
  },
  {
   "cell_type": "code",
   "execution_count": null,
   "metadata": {},
   "outputs": [],
   "source": [
    "#| export\n",
    "\n",
    "def config_exists(env_var: str):\n",
    "    \"\"\"Check if `env_var` environment variable exists\"\"\"\n",
    "    v = env_var.upper()\n",
    "    if not os.environ.get(v) or os.environ.get(v) == '':\n",
    "        print(\"[bold red]Error:[/bold red] [italic red]Configuration option not set.[/italic red] [yellow]Please set the [bold]\" + v + \"[/bold] environment variable.[/yellow]\\n\")"
   ]
  },
  {
   "cell_type": "code",
   "execution_count": null,
   "metadata": {},
   "outputs": [],
   "source": [
    "#| export\n",
    "\n",
    "def init():\n",
    "    \"\"\"Initialize the application\"\"\"\n",
    "    # load environment variables\n",
    "    load_dotenv()\n",
    "\n",
    "    # check for the existance of all configuration options\n",
    "    config_exists('FEEDS_PATH')\n",
    "    config_exists('DB_PATH')\n",
    "    config_exists('MODEL_PATH')\n",
    "\n",
    "    # Create the feeds database if it doesn't exist\n",
    "    if not os.path.exists(os.environ.get('DB_PATH')):\n",
    "        print(\"[Cyan]Feeds database not existing, creating...\")\n",
    "        conn = connect_feeds_db()\n",
    "        create_feeds_db(conn)\n",
    "        create_articles_db(conn)\n",
    "        conn.close()\n",
    "\n",
    "    # run app after initialization\n",
    "    app()"
   ]
  },
  {
   "cell_type": "markdown",
   "metadata": {},
   "source": [
    "## Entry point\n",
    "\n",
    "The entry point of the command line interface, the `typer` application will be called to manage the interaction with the users."
   ]
  },
  {
   "cell_type": "code",
   "execution_count": null,
   "metadata": {},
   "outputs": [],
   "source": [
    "#| export\n",
    "#| eval: false\n",
    "\n",
    "if __name__ == \"__main__\":\n",
    "    init()"
   ]
  }
 ],
 "metadata": {
  "kernelspec": {
   "display_name": "python3",
   "language": "python",
   "name": "python3"
  }
 },
 "nbformat": 4,
 "nbformat_minor": 4
}
