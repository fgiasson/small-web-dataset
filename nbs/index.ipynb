{
 "cells": [
  {
   "cell_type": "markdown",
   "metadata": {},
   "source": [
    "# small-web-dataset\n",
    "\n",
    "> Process all the RSS and Atom feeds from the Small Web feeds list, validate them, generate statistics and eventually more."
   ]
  },
  {
   "cell_type": "markdown",
   "metadata": {},
   "source": [
    "The Small Web Dataset is a command line tool used to generate a dataset by aggregating of all the data from the [Kagi Small Web index](https://github.com/kagisearch/smallweb/blob/main/smallweb.txt). \n",
    "\n",
    "What is the Small Web? The Small Web is the web of independent websites that are not part of the big tech platforms. Here are some more reference about the concept [[1](https://neustadt.fr/essays/the-small-web/)][[2](https://benhoyt.com/writings/the-small-web-is-beautiful/)][[3](https://smallweb.page/why)][[4](https://ar.al/2020/08/07/what-is-the-small-web/)][[5](https://news.ycombinator.com/item?id=29768197)]...\n",
    "\n",
    "There are different purpose for this tool and the dataset it creates:\n",
    "\n",
    " 1. help analyzing the Kagi Small Web index, to detect and eventually remove the sites that doesn't comply with the policy of the index\n",
    " 2. create a dataset of all the sites that compose the index. This dataset is a very specialized subset of websites that are created and maintained by independent people, mostly old school bloggers. This dataset can be used for different specialized ML training, for example to train a classifier to detect the Small Web sites from the Big Web sites, etc."
   ]
  },
  {
   "cell_type": "markdown",
   "metadata": {},
   "source": [
    "## Install\n",
    "\n",
    "To install the command line tool, you simply have to:\n",
    "\n",
    "```sh\n",
    "git clone https://github.com/fgiasson/small-web-dataset.git\n",
    "cd small-web-dataset\n",
    "\n",
    "make build\n",
    "make install-local-build\n",
    "```\n",
    "\n",
    "This will clone the repository, build the command line tool and install it in your local Python environment."
   ]
  },
  {
   "cell_type": "markdown",
   "metadata": {},
   "source": [
    "## Configure\n",
    "\n",
    "You have to make those environment variables available in your environment:\n",
    "\n",
    "|Variable|Description|\n",
    "|---|---|\n",
    "|`FEEDS_PATH`|The path where you want to save all the feeds on your local file system|\n",
    "|`DB_PATH`|The path where you want to save the SQLite dataset on your local file system|"
   ]
  },
  {
   "cell_type": "markdown",
   "metadata": {},
   "source": [
    "## How to use"
   ]
  },
  {
   "cell_type": "markdown",
   "metadata": {},
   "source": [
    "You can make sure that the command line tool is installed by running, and that the latest version is available by running:\n",
    "\n",
    "```sh\n",
    "small-web-dataset version\n",
    "```\n",
    "\n",
    "You can get the help documentation by running:\n",
    "\n",
    "```sh\n",
    "small-web-dataset --help\n",
    "```\n",
    "\n",
    "You can check what are the current configuration options for the tool in the current environment by running:\n",
    "\n",
    "```sh\n",
    "small-web-dataset config\n",
    "```\n",
    "\n",
    "To create the dataset, you simply have to run the following command:\n",
    "\n",
    "```sh\n",
    "small-web-dataset sync-feeds\n",
    "```\n",
    "\n",
    "This command will do three things:\n",
    "\n",
    " 1. it will download all the RSS and Atom feeds from the Kagi Small Web index in the `FEEDS_PATH` folder\n",
    " 2. it will read all the local feeds files and import them in a local SQLite database in the `DB_PATH` folder\n",
    " 3. it will infer the core language of a feed from the language used to write the articles in the feed, and it will add this information in the database\n",
    "\n",
    "Optionally, if you already have a local cache of the feeds and you only want to update/recreate the database, you simply have to specify the `DDMMYYYY` folder of the feeds you want to process:\n",
    "\n",
    "```sh\n",
    "small-web-dataset sync-feeds 18092023\n",
    "```"
   ]
  }
 ],
 "metadata": {
  "kernelspec": {
   "display_name": "python3",
   "language": "python",
   "name": "python3"
  }
 },
 "nbformat": 4,
 "nbformat_minor": 4
}
